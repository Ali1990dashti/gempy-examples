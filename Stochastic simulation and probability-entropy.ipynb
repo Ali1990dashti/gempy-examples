{
 "cells": [
  {
   "cell_type": "markdown",
   "metadata": {},
   "source": [
    "import os\n",
    "os.environ[\"THEANO_FLAGS\"] = \"mode=FAST_RUN,device=cuda\"\n",
    "import theano"
   ]
  },
  {
   "cell_type": "code",
   "execution_count": 5,
   "metadata": {},
   "outputs": [],
   "source": [
    "import sys\n",
    "if '/' in sys.path[0]:\n",
    "    sys.path.append(r'/home/elisa/PycharmProjects/gempy')\n",
    "elif '\\\\' in sys.path[0]:\n",
    "    sys.path.append(r'C:/users/elisa/documents/git/gempy')\n",
    "\n",
    "import gempy as gp\n",
    "#import vtk\n",
    "\n",
    "\n",
    "import numpy as np\n",
    "import matplotlib.pyplot as plt"
   ]
  },
  {
   "cell_type": "code",
   "execution_count": 6,
   "metadata": {},
   "outputs": [],
   "source": [
    "# for plotting\n",
    "SMALL_SIZE = 8\n",
    "MEDIUM_SIZE = 10\n",
    "BIGGER_SIZE = 12\n",
    "\n",
    "plt.rc('font', size=SMALL_SIZE)          # controls default text sizes\n",
    "plt.rc('axes', titlesize=SMALL_SIZE)     # fontsize of the axes title\n",
    "plt.rc('axes', labelsize=MEDIUM_SIZE)    # fontsize of the x and y labels\n",
    "plt.rc('xtick', labelsize=SMALL_SIZE)    # fontsize of the tick labels\n",
    "plt.rc('ytick', labelsize=SMALL_SIZE)    # fontsize of the tick labels\n",
    "plt.rc('legend', fontsize=SMALL_SIZE)    # legend fontsize\n",
    "plt.rc('figure', titlesize=BIGGER_SIZE)  # fontsize of the figure title\n",
    "plt.rc('axes', linewidth=1)\n",
    "import matplotlib\n",
    "matplotlib.rcParams['pdf.fonttype'] = 42\n",
    "matplotlib.rcParams['ps.fonttype'] = 42"
   ]
  },
  {
   "cell_type": "markdown",
   "metadata": {},
   "source": [
    "### 1. Regular model setup"
   ]
  },
  {
   "cell_type": "code",
   "execution_count": 7,
   "metadata": {},
   "outputs": [
    {
     "name": "stdout",
     "output_type": "stream",
     "text": [
      "Active grids: ['regular']\n",
      "Active grids: ['regular' 'sections']\n",
      "Active grids: ['regular' 'topography' 'sections']\n"
     ]
    },
    {
     "data": {
      "text/plain": [
       "Grid Object. Values: \n",
       "array([[ 166.66666667,  166.66666667,  166.66666667],\n",
       "       [ 166.66666667,  166.66666667,  500.        ],\n",
       "       [ 166.66666667,  166.66666667,  833.33333333],\n",
       "       ...,\n",
       "       [1000.        ,  200.        ,  974.6835443 ],\n",
       "       [1000.        ,  200.        ,  987.34177215],\n",
       "       [1000.        ,  200.        , 1000.        ]])"
      ]
     },
     "execution_count": 7,
     "metadata": {},
     "output_type": "execute_result"
    },
    {
     "data": {
      "image/png": "[encoded data removed]",
      "text/plain": [
       "<Figure size 432x288 with 2 Axes>"
      ]
     },
     "metadata": {
      "needs_background": "light"
     },
     "output_type": "display_data"
    }
   ],
   "source": [
    "geo_model = gp.create_model('FaultModel')\n",
    "gp.init_data(geo_model, extent=[0,1000,0,1000,0,1000],resolution = [3,3,3],\n",
    "                         path_i = r\"data/faultuncertainty_interfaces_surface.csv\",\n",
    "                         path_o = r\"data/faultuncertainty_orient_surface.csv\")\n",
    "\n",
    "gp.map_series_to_surfaces(geo_model, {'fault_series':'fault','form_series':('layer2','layer1','basement')})\n",
    "geo_model.surfaces.colors.change_colors({'layer1': '#ffbe00', 'layer2': '#9f0052', 'fault': '#015482',\n",
    "                                        'basement': '#728f02'})\n",
    "\n",
    "geo_model.set_is_fault(['fault_series'],change_color=False)\n",
    "\n",
    "geo_model.set_section_grid({'s1':([0,200],[1000,200],[80,80])})#p1,p2,resolution\n",
    "geo_model.set_topography(source='saved', filepath=r'data/topo.npy')"
   ]
  },
  {
   "cell_type": "code",
   "execution_count": 8,
   "metadata": {},
   "outputs": [
    {
     "data": {
      "text/plain": [
       "<gempy.plot.visualization_2d.PlotData2D at 0x1cbfa22efd0>"
      ]
     },
     "execution_count": 8,
     "metadata": {},
     "output_type": "execute_result"
    },
    {
     "data": {
      "image/png": "[encoded data removed]",
      "text/plain": [
       "<Figure size 432x432 with 1 Axes>"
      ]
     },
     "metadata": {
      "needs_background": "light"
     },
     "output_type": "display_data"
    }
   ],
   "source": [
    "gp.plot.plot_data(geo_model, direction='y')"
   ]
  },
  {
   "cell_type": "code",
   "execution_count": null,
   "metadata": {},
   "outputs": [],
   "source": [
    "gp.plot.plot_data(geo_model, direction='z')"
   ]
  },
  {
   "cell_type": "code",
   "execution_count": null,
   "metadata": {},
   "outputs": [],
   "source": [
    "gp.set_interpolation_data(geo_model,\n",
    "                          compile_theano=True,\n",
    "                          theano_optimizer='fast_compile',\n",
    "                          verbose=[])"
   ]
  },
  {
   "cell_type": "code",
   "execution_count": null,
   "metadata": {},
   "outputs": [],
   "source": [
    "sol = gp.compute_model(geo_model, compute_mesh=False)"
   ]
  },
  {
   "cell_type": "code",
   "execution_count": null,
   "metadata": {},
   "outputs": [],
   "source": [
    "_=gp.plot.plot_section_by_name(geo_model, 's1', show_data=True, radius=50)"
   ]
  },
  {
   "cell_type": "code",
   "execution_count": 4,
   "metadata": {},
   "outputs": [
    {
     "ename": "AttributeError",
     "evalue": "Geological map not computed. Activate the topography grid.",
     "output_type": "error",
     "traceback": [
      "\u001b[1;31m---------------------------------------------------------------------------\u001b[0m",
      "\u001b[1;31mAttributeError\u001b[0m                            Traceback (most recent call last)",
      "\u001b[1;32m<ipython-input-4-a610e346e5fa>\u001b[0m in \u001b[0;36m<module>\u001b[1;34m\u001b[0m\n\u001b[1;32m----> 1\u001b[1;33m \u001b[0mgp\u001b[0m\u001b[1;33m.\u001b[0m\u001b[0mplot\u001b[0m\u001b[1;33m.\u001b[0m\u001b[0mplot_map\u001b[0m\u001b[1;33m(\u001b[0m\u001b[0mgeo_model\u001b[0m\u001b[1;33m,\u001b[0m \u001b[0mshow_data\u001b[0m\u001b[1;33m=\u001b[0m\u001b[1;32mFalse\u001b[0m\u001b[1;33m,\u001b[0m \u001b[0mfigsize\u001b[0m\u001b[1;33m=\u001b[0m\u001b[1;33m(\u001b[0m\u001b[1;36m7\u001b[0m\u001b[1;33m,\u001b[0m\u001b[1;36m7\u001b[0m\u001b[1;33m)\u001b[0m\u001b[1;33m)\u001b[0m\u001b[1;33m\u001b[0m\u001b[1;33m\u001b[0m\u001b[0m\n\u001b[0m",
      "\u001b[1;32mC:/users/elisa/documents/git/gempy\\gempy\\plot\\plot.py\u001b[0m in \u001b[0;36mplot_map\u001b[1;34m(model, contour_lines, show_data, figsize)\u001b[0m\n\u001b[0;32m    169\u001b[0m     \u001b[0mplot\u001b[0m \u001b[1;33m=\u001b[0m \u001b[0mPlotSolution\u001b[0m\u001b[1;33m(\u001b[0m\u001b[0mmodel\u001b[0m\u001b[1;33m)\u001b[0m\u001b[1;33m\u001b[0m\u001b[1;33m\u001b[0m\u001b[0m\n\u001b[0;32m    170\u001b[0m     plot.plot_map(contour_lines=contour_lines, show_data=show_data,\n\u001b[1;32m--> 171\u001b[1;33m                   figsize=figsize)\n\u001b[0m\u001b[0;32m    172\u001b[0m \u001b[1;33m\u001b[0m\u001b[0m\n\u001b[0;32m    173\u001b[0m \u001b[1;33m\u001b[0m\u001b[0m\n",
      "\u001b[1;32mC:/users/elisa/documents/git/gempy\\gempy\\plot\\visualization_2d.py\u001b[0m in \u001b[0;36mplot_map\u001b[1;34m(self, solution, contour_lines, show_data, show_all_data, figsize)\u001b[0m\n\u001b[0;32m    493\u001b[0m \u001b[1;33m\u001b[0m\u001b[0m\n\u001b[0;32m    494\u001b[0m         \u001b[1;32mif\u001b[0m \u001b[0msolution\u001b[0m\u001b[1;33m.\u001b[0m\u001b[0mgeological_map\u001b[0m \u001b[1;32mis\u001b[0m \u001b[1;32mNone\u001b[0m\u001b[1;33m:\u001b[0m\u001b[1;33m\u001b[0m\u001b[1;33m\u001b[0m\u001b[0m\n\u001b[1;32m--> 495\u001b[1;33m             \u001b[1;32mraise\u001b[0m \u001b[0mAttributeError\u001b[0m\u001b[1;33m(\u001b[0m\u001b[1;34m'Geological map not computed. Activate the topography grid.'\u001b[0m\u001b[1;33m)\u001b[0m\u001b[1;33m\u001b[0m\u001b[1;33m\u001b[0m\u001b[0m\n\u001b[0m\u001b[0;32m    496\u001b[0m \u001b[1;33m\u001b[0m\u001b[0m\n\u001b[0;32m    497\u001b[0m         \u001b[1;32mtry\u001b[0m\u001b[1;33m:\u001b[0m\u001b[1;33m\u001b[0m\u001b[1;33m\u001b[0m\u001b[0m\n",
      "\u001b[1;31mAttributeError\u001b[0m: Geological map not computed. Activate the topography grid."
     ]
    }
   ],
   "source": [
    "gp.plot.plot_map(geo_model, show_data=False, figsize=(7,7))"
   ]
  },
  {
   "cell_type": "markdown",
   "metadata": {},
   "source": [
    "### 2. Stochastic simulation"
   ]
  },
  {
   "cell_type": "markdown",
   "metadata": {},
   "source": [
    "##### as an example: code to perturb location of fault once. "
   ]
  },
  {
   "cell_type": "code",
   "execution_count": 10,
   "metadata": {},
   "outputs": [
    {
     "name": "stdout",
     "output_type": "stream",
     "text": [
      "1000\n",
      "0\n"
     ]
    },
    {
     "name": "stderr",
     "output_type": "stream",
     "text": [
      "C:/users/elisa/documents/git/gempy\\gempy\\plot\\visualization_2d.py:208: UserWarning: the orientations are not converted to apparent dip.\n",
      "  warnings.warn('the orientations are not converted to apparent dip.')\n"
     ]
    },
    {
     "data": {
      "image/png": "[encoded data removed]",
      "text/plain": [
       "<Figure size 432x432 with 1 Axes>"
      ]
     },
     "metadata": {
      "needs_background": "light"
     },
     "output_type": "display_data"
    }
   ],
   "source": [
    "# execute this cell a couple of times and see how location of fault in section changes\n",
    "\n",
    "mask_surfpoints = geo_model.surface_points.df.surface.isin(['fault']) # perturb only fault\n",
    "indexes = geo_model.surface_points.df[mask_surfpoints].index\n",
    "\n",
    "rand_val = np.random.uniform(-100, 100)\n",
    "we = geo_model.surface_points.df['X'].values[mask_surfpoints] + rand_val\n",
    "ns = geo_model.surface_points.df['Y'].values[mask_surfpoints] + rand_val\n",
    "d = geo_model.surface_points.df['Z'][mask_surfpoints] + rand_val\n",
    "geo_model.modify_surface_points(indexes, X=we, Y=ns, Z=d)\n",
    "\n",
    "geo_model.update_to_interpolator()\n",
    "\n",
    "_=gp.compute_model(geo_model, compute_mesh=False)\n",
    "\n",
    "_=gp.plot.plot_section_by_name(geo_model, 's1', show_data=True, radius=50)"
   ]
  },
  {
   "cell_type": "markdown",
   "metadata": {},
   "source": [
    "### Full simulation in loop with probability calculation"
   ]
  },
  {
   "cell_type": "code",
   "execution_count": 11,
   "metadata": {},
   "outputs": [],
   "source": [
    "from tqdm import tqdm_notebook as tqdm"
   ]
  },
  {
   "cell_type": "markdown",
   "metadata": {},
   "source": [
    "##### Init probability blocks"
   ]
  },
  {
   "cell_type": "code",
   "execution_count": 12,
   "metadata": {},
   "outputs": [],
   "source": [
    "# unique lith ids\n",
    "lith_id = np.unique(np.round(geo_model.solutions.sections[0]).astype(int))\n",
    "\n",
    "# setup solution arrays\n",
    "geomap  = np.round(geo_model.solutions.geological_map[0]).astype(int).ravel()\n",
    "section1  = np.round(geo_model.solutions.sections[0]).astype(int).ravel()\n",
    "block = np.round(geo_model.solutions.lith_block).astype(int)\n",
    "\n",
    "#init counters\n",
    "count_map = np.zeros((len(lith_id), geomap.shape[0]))\n",
    "count_section = np.zeros((len(lith_id), section1.shape[0]))\n",
    "count_block = np.zeros((len(lith_id), block.shape[0]))"
   ]
  },
  {
   "cell_type": "code",
   "execution_count": 13,
   "metadata": {},
   "outputs": [],
   "source": [
    "mask_surfpoints = geo_model.surface_points.df.surface.isin(['fault'])\n",
    "indexes = geo_model.surface_points.df[mask_surfpoints].index"
   ]
  },
  {
   "cell_type": "code",
   "execution_count": 14,
   "metadata": {},
   "outputs": [],
   "source": [
    "# copy initial dataframes to reset data before every iteration\n",
    "import copy\n",
    "\n",
    "west_east = copy.copy(geo_model.surface_points.df['X'])\n",
    "north_south = copy.copy(geo_model.surface_points.df['Y'])\n",
    "depth = copy.copy(geo_model.surface_points.df['Z'])\n",
    "\n",
    "surfindexes = list(geo_model.surface_points.df.index)"
   ]
  },
  {
   "cell_type": "code",
   "execution_count": 15,
   "metadata": {},
   "outputs": [
    {
     "data": {
      "application/vnd.jupyter.widget-view+json": {
       "model_id": "f11e9dd42f7c4d589c050f87c8917982",
       "version_major": 2,
       "version_minor": 0
      },
      "text/plain": [
       "HBox(children=(IntProgress(value=0, max=13), HTML(value='')))"
      ]
     },
     "metadata": {},
     "output_type": "display_data"
    },
    {
     "name": "stdout",
     "output_type": "stream",
     "text": [
      "\n"
     ]
    },
    {
     "data": {
      "text/plain": [
       "<Figure size 432x288 with 0 Axes>"
      ]
     },
     "metadata": {},
     "output_type": "display_data"
    }
   ],
   "source": [
    "n_iter=13 #number of iterations\n",
    "\n",
    "for i in tqdm(range(n_iter)):\n",
    "    plt.cla()\n",
    "    plt.clf()\n",
    "    \n",
    "    # make virgin again\n",
    "    geo_model.modify_surface_points(surfindexes, X=west_east, Y=north_south, Z=depth)\n",
    "    geo_model.update_to_interpolator()\n",
    "    \n",
    "    # perturb data\n",
    "    rand_val = np.random.uniform(-100, 100)\n",
    "    we = west_east[mask_surfpoints] + rand_val\n",
    "    geo_model.modify_surface_points(indexes, X=we)\n",
    "\n",
    "    geo_model.update_to_interpolator()\n",
    "\n",
    "    _=gp.compute_model(geo_model, compute_mesh=False)\n",
    "    \n",
    "    \n",
    "    ##### calculate and update probability fields #####\n",
    "    geomap  = np.round(geo_model.solutions.geological_map[0]).astype(int)[0]\n",
    "    section1  = np.round(geo_model.solutions.sections[0]).astype(int)[0]\n",
    "    block = np.round(geo_model.solutions.lith_block).astype(int)\n",
    "    \n",
    "    \n",
    "    for i, l_id in enumerate(lith_id): #enumerate through all liths\n",
    "        count_map[i][geomap == l_id] += 1 #sum up frequency\n",
    "        count_section[i][section1 == l_id] += 1 \n",
    "        count_block[i][block == l_id] +=1 #block is raveled so no need for indexing\n",
    "\n",
    "#### finish probability calculation and save as numpy arrays ####\n",
    "prob_map = count_map/n_iter\n",
    "prob_section = count_section/n_iter\n",
    "prob_block = count_block/n_iter"
   ]
  },
  {
   "cell_type": "markdown",
   "metadata": {},
   "source": [
    "### Visualize probabilities"
   ]
  },
  {
   "cell_type": "code",
   "execution_count": 16,
   "metadata": {},
   "outputs": [],
   "source": [
    "from gempy.plot import visualization_2d\n",
    "plot = visualization_2d.PlotSolution(geo_model)"
   ]
  },
  {
   "cell_type": "code",
   "execution_count": 17,
   "metadata": {},
   "outputs": [],
   "source": [
    "from matplotlib.ticker import FixedFormatter, FixedLocator\n",
    "import matplotlib.colors as mcolors\n",
    "from gempy.plot import helpers\n",
    "\n",
    "def plot_probabilities(plot, block, shape, T = False, extent=None):\n",
    "    fig, ax = plt.subplots(1,3, figsize=(12,12))\n",
    "    ax = ax.flatten()\n",
    "    print(int(np.ceil(block.shape[0]/2)))\n",
    "    print(block.shape)\n",
    "    for i in range(block.shape[0]):\n",
    "        #allcolors = list(plot._color_lot.values())[plot.model.faults.n_faults:]\n",
    "        allcolors=['#9f0052', '#ffbe00', '#728f02']\n",
    "        formnames = list(plot._color_lot.keys())[plot.model.faults.n_faults:]\n",
    "        c2 = allcolors[i]\n",
    "        title = formnames[i]\n",
    "        cmap = mcolors.LinearSegmentedColormap.from_list('c',['#FFFFFF',c2])\n",
    "        if T:\n",
    "            plotblock = block[i].reshape(shape).T\n",
    "        else:\n",
    "            plotblock = block[i].reshape(shape)\n",
    "        im = ax[i].imshow(plotblock, origin='lower', cmap=cmap,\n",
    "                    extent = extent)\n",
    "        ax[i].set_title(title)\n",
    "        helpers.add_colorbar(im, label='probability')\n",
    "    fig.tight_layout()\n",
    "    \n",
    "def calculate_ie_masked(prob):\n",
    "    ie = np.zeros_like(prob[0])\n",
    "    for l in prob:\n",
    "        pm = np.ma.masked_equal(l, 0)  # mask where prob is 0\n",
    "        ie -= (pm * np.ma.log2(pm)).filled(0)\n",
    "    return ie\n",
    "\n",
    "def plot_section_by_name(self, section_name, image=None, show_data=True, show_faults=True, show_topo=True,\n",
    "                         show_all_data=False, cmap='viridis', label='cell entropy', title=None, **kwargs):\n",
    "    assert type(section_name) == str, 'section name must be a string of the name of the section'\n",
    "\n",
    "    j = np.where(self.model.grid.sections.names == section_name)[0][0]\n",
    "    l0, l1 = self.model.grid.sections.get_section_args(section_name)\n",
    "    shape = self.model.grid.sections.resolution[j]\n",
    "    if image is None:\n",
    "        image = self.model.solutions.sections[0][0][l0:l1].reshape(shape[0], shape[1]).T\n",
    "    else: image = image.reshape(shape[0], shape[1]).T\n",
    "    extent = [0, self.model.grid.sections.dist[j][0],\n",
    "              self.model.grid.regular_grid.extent[4], self.model.grid.regular_grid.extent[5]]\n",
    "\n",
    "\n",
    "    if show_data:\n",
    "        self.plot_section_data(section_name=section_name, show_all_data=show_all_data, **kwargs)\n",
    "\n",
    "    axes = plt.gca()\n",
    "    im=axes.imshow(image, origin='lower', zorder=-100,\n",
    "                cmap=cmap, extent=extent)\n",
    "    if show_faults:\n",
    "        self.extract_section_fault_lines(section_name, axes)\n",
    "\n",
    "    if show_topo:\n",
    "        if self.model.grid.topography is not None:\n",
    "            alpha = kwargs.get('alpha', 1)\n",
    "            xy = self.make_topography_overlay_4_sections(j)\n",
    "            axes.fill(xy[:, 0], xy[:, 1], 'k', zorder=10, alpha=alpha)\n",
    "\n",
    "    labels, axname = self._make_section_xylabels(section_name, len(axes.get_xticklabels()) - 2)\n",
    "    pos_list = np.linspace(0, self.model.grid.sections.dist[j], len(labels))\n",
    "    axes.xaxis.set_major_locator(FixedLocator(nbins=len(labels), locs=pos_list))\n",
    "    axes.xaxis.set_major_formatter(FixedFormatter((labels)))\n",
    "    if title is None:\n",
    "        title=self.model.grid.sections.names[j]\n",
    "    axes.set(title=title, xlabel=axname, ylabel='Z')\n",
    "    helpers.add_colorbar(im, label=label)"
   ]
  },
  {
   "cell_type": "code",
   "execution_count": 18,
   "metadata": {},
   "outputs": [
    {
     "name": "stdout",
     "output_type": "stream",
     "text": [
      "2\n",
      "(3, 6400)\n"
     ]
    },
    {
     "data": {
      "image/png": "[encoded data removed]",
      "text/plain": [
       "<Figure size 864x864 with 6 Axes>"
      ]
     },
     "metadata": {
      "needs_background": "light"
     },
     "output_type": "display_data"
    }
   ],
   "source": [
    "plot_probabilities(plot, prob_section, geo_model.grid.sections.resolution[0],\n",
    "                  T=True, extent=[0,1000,0,1000])"
   ]
  },
  {
   "cell_type": "code",
   "execution_count": 19,
   "metadata": {},
   "outputs": [
    {
     "name": "stdout",
     "output_type": "stream",
     "text": [
      "2\n",
      "(3, 10000)\n"
     ]
    },
    {
     "data": {
      "image/png": "[encoded data removed]",
      "text/plain": [
       "<Figure size 864x864 with 6 Axes>"
      ]
     },
     "metadata": {
      "needs_background": "light"
     },
     "output_type": "display_data"
    }
   ],
   "source": [
    "plot_probabilities(plot, prob_map, geo_model.grid.topography.resolution,\n",
    "                  T=False)"
   ]
  },
  {
   "cell_type": "markdown",
   "metadata": {},
   "source": [
    "### Entropy"
   ]
  },
  {
   "cell_type": "code",
   "execution_count": 20,
   "metadata": {},
   "outputs": [],
   "source": [
    "from scipy.stats import entropy"
   ]
  },
  {
   "cell_type": "code",
   "execution_count": 21,
   "metadata": {},
   "outputs": [
    {
     "name": "stdout",
     "output_type": "stream",
     "text": [
      "0.0 0.9957274520849256 0.0 0.9957274520849256\n"
     ]
    }
   ],
   "source": [
    "ent_map = entropy(prob_map, base=2)\n",
    "ent_sections = entropy(prob_section, base=2)\n",
    "print(ent_sections.min(), ent_sections.max(), ent_map.min(), ent_map.max())"
   ]
  },
  {
   "cell_type": "code",
   "execution_count": 22,
   "metadata": {},
   "outputs": [],
   "source": [
    "resolution=[80, 80]\n",
    "restopo=[100, 100]"
   ]
  },
  {
   "cell_type": "code",
   "execution_count": 23,
   "metadata": {},
   "outputs": [
    {
     "data": {
      "text/plain": [
       "Text(0.5, 1.0, 'Map entropy')"
      ]
     },
     "execution_count": 23,
     "metadata": {},
     "output_type": "execute_result"
    },
    {
     "data": {
      "image/png": "[encoded data removed]",
      "text/plain": [
       "<Figure size 648x648 with 2 Axes>"
      ]
     },
     "metadata": {
      "needs_background": "light"
     },
     "output_type": "display_data"
    }
   ],
   "source": [
    "fig, ax = plt.subplots(nrows=1, ncols=2, figsize=(9,9))\n",
    "\n",
    "vmin = 0\n",
    "vmax = 1\n",
    "\n",
    "section_ie1 = entropy(prob_section,base=2)[:80*80] # indexing in case there is more than one section\n",
    "map_ie = entropy(prob_map,base=2)\n",
    "\n",
    "extent=[0,1000,0,1000]\n",
    "im = ax[0].imshow(section_ie1.reshape(resolution).T, origin='lower', cmap='viridis',extent=extent, vmin=vmin, vmax=vmax)\n",
    "ax[0].set_title('Section entropy')\n",
    "#add_colorbar(im, ax[0], label='cell entropy')\n",
    "im = ax[1].imshow(map_ie.reshape(restopo), origin='lower', cmap='viridis',extent=extent, vmin=vmin, vmax=vmax)\n",
    "ax[1].set_title('Map entropy')"
   ]
  },
  {
   "cell_type": "code",
   "execution_count": null,
   "metadata": {},
   "outputs": [],
   "source": []
  }
 ],
 "metadata": {
  "kernelspec": {
   "display_name": "Python 3",
   "language": "python",
   "name": "python3"
  },
  "language_info": {
   "codemirror_mode": {
    "name": "ipython",
    "version": 3
   },
   "file_extension": ".py",
   "mimetype": "text/x-python",
   "name": "python",
   "nbconvert_exporter": "python",
   "pygments_lexer": "ipython3",
   "version": "3.7.3"
  }
 },
 "nbformat": 4,
 "nbformat_minor": 2
}
